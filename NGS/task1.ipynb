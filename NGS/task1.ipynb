{
 "cells": [
  {
   "cell_type": "markdown",
   "id": "5e03d9f5-6423-4ac7-85f2-f228a73eb28b",
   "metadata": {},
   "source": [
    "# Задание 1"
   ]
  },
  {
   "cell_type": "markdown",
   "id": "ebc6ef65-2ee5-4c79-b2db-105f47d6b64a",
   "metadata": {},
   "source": [
    "GC - состав ридов и его распределение"
   ]
  },
  {
   "cell_type": "code",
   "execution_count": 1,
   "id": "d63c31d4-5e63-412c-8733-f8c90cf19953",
   "metadata": {},
   "outputs": [],
   "source": [
    "import numpy as np\n",
    "import seaborn as sns\n",
    "import matplotlib.pyplot as plt\n",
    "import pandas as pd\n",
    "from Bio import SeqIO\n",
    "from Bio.SeqUtils import GC"
   ]
  },
  {
   "cell_type": "markdown",
   "id": "7a18cdc3-e015-4a99-9334-a9c068beb880",
   "metadata": {},
   "source": [
    "Попробуем прочитать данные:"
   ]
  },
  {
   "cell_type": "code",
   "execution_count": 2,
   "id": "61da7a39-39fe-4167-8697-9fbbd5d878cb",
   "metadata": {},
   "outputs": [],
   "source": [
    "#for record in SeqIO.parse(\"test.fastq\", \"fastq\"):\n",
    "    #print('%s %s' % (record.id, record.seq))"
   ]
  },
  {
   "cell_type": "markdown",
   "id": "02761253-fed4-45a8-af3e-2c2e4ebee3f4",
   "metadata": {},
   "source": [
    "Я использую KDE (Kernel Density Estimation), чтобы предсказать функцию распределения GC-повторов"
   ]
  },
  {
   "cell_type": "markdown",
   "id": "bed94717-cdc4-44f3-b98e-0b4c6d08bade",
   "metadata": {},
   "source": [
    "## Для R1:"
   ]
  },
  {
   "cell_type": "code",
   "execution_count": 86,
   "id": "879c68e6-9529-4d12-af64-d9c8d4ab4d2c",
   "metadata": {},
   "outputs": [],
   "source": [
    "x1 = []\n",
    "for record in SeqIO.parse('frag.R1.fastq', \"fastq\"):\n",
    "    rseq = record.seq\n",
    "    rseq = rseq.replace('N', '')\n",
    "    x1.append(GC(rseq))"
   ]
  },
  {
   "cell_type": "code",
   "execution_count": 78,
   "id": "1f385aa6-0961-4c3a-84d1-520ba58a4a74",
   "metadata": {},
   "outputs": [
    {
     "data": {
      "text/plain": [
       "<Figure size 432x288 with 0 Axes>"
      ]
     },
     "metadata": {},
     "output_type": "display_data"
    },
    {
     "data": {
      "image/png": "[encoded data removed]",
      "text/plain": [
       "<Figure size 432x288 with 1 Axes>"
      ]
     },
     "metadata": {
      "needs_background": "light"
     },
     "output_type": "display_data"
    }
   ],
   "source": [
    "plt.tight_layout()\n",
    "x1 = pd.DataFrame(x1)\n",
    "b = x1.plot.kde(color = 'orange')"
   ]
  },
  {
   "cell_type": "markdown",
   "id": "3c21f94c-9161-4e90-8b52-b6091343bb04",
   "metadata": {},
   "source": [
    "Среднее число GC-повторов в ридах:"
   ]
  },
  {
   "cell_type": "code",
   "execution_count": 79,
   "id": "c3c6a537-ef4d-475d-a9ee-9b055ab1ad27",
   "metadata": {},
   "outputs": [
    {
     "name": "stdout",
     "output_type": "stream",
     "text": [
      "0    72.440006\n",
      "dtype: float64\n"
     ]
    }
   ],
   "source": [
    "print(np.mean(x1))"
   ]
  },
  {
   "cell_type": "markdown",
   "id": "872e06f8-2fce-464b-8df1-abe36a4249c9",
   "metadata": {},
   "source": [
    "## Для R2:"
   ]
  },
  {
   "cell_type": "code",
   "execution_count": 68,
   "id": "95551f57-c0c5-4389-b1bc-a780a211ef61",
   "metadata": {},
   "outputs": [
    {
     "name": "stdout",
     "output_type": "stream",
     "text": [
      "0    72.440006\n",
      "dtype: float64\n"
     ]
    },
    {
     "data": {
      "image/png": "[encoded data removed]",
      "text/plain": [
       "<Figure size 432x288 with 1 Axes>"
      ]
     },
     "metadata": {
      "needs_background": "light"
     },
     "output_type": "display_data"
    }
   ],
   "source": [
    "x2 = []\n",
    "for record in SeqIO.parse('frag.R2.fastq', \"fastq\"):\n",
    "    rseq = record.seq\n",
    "    rseq = rseq.replace('N', '')\n",
    "    x2.append(GC(rseq))\n",
    "    \n",
    "plt.tight_layout()\n",
    "plt.close()\n",
    "x2 = pd.DataFrame(x1)\n",
    "b = x2.plot.kde(color = 'orange')\n",
    "plt.xlim(0,100)\n",
    "\n",
    "print(np.mean(x2))"
   ]
  },
  {
   "cell_type": "markdown",
   "id": "e0bf0eb2-7cee-4c15-a889-19fab58972a4",
   "metadata": {},
   "source": [
    "В среднем 72.44% GC-повторов в ридах данного организма (число совпадает для обоих ридов из пары: R1 и R2)"
   ]
  },
  {
   "cell_type": "markdown",
   "id": "d6477c6b-ed84-4c08-bba5-330337c832da",
   "metadata": {},
   "source": [
    "# Задание 2"
   ]
  },
  {
   "cell_type": "markdown",
   "id": "84c4b7e2-aadc-4a5c-8c6b-67b8f001752c",
   "metadata": {},
   "source": [
    "Распределение вероятности ошибки"
   ]
  },
  {
   "cell_type": "code",
   "execution_count": 81,
   "id": "87c2f554-1567-4310-b97b-9ab84f66d191",
   "metadata": {},
   "outputs": [
    {
     "name": "stdout",
     "output_type": "stream",
     "text": [
      "150\n"
     ]
    }
   ],
   "source": [
    "for record in SeqIO.parse('frag.R1.fastq','fastq'):\n",
    "    print(len(record.seq))\n",
    "    break"
   ]
  },
  {
   "cell_type": "markdown",
   "id": "be6ecd9f-6723-4e80-8717-ceaa8f2b5883",
   "metadata": {},
   "source": [
    "длина рида 150"
   ]
  },
  {
   "cell_type": "markdown",
   "id": "b917f7d3-935d-47ea-b955-bb442857ea25",
   "metadata": {},
   "source": [
    "Рассчитаем число ридов:"
   ]
  },
  {
   "cell_type": "code",
   "execution_count": 84,
   "id": "da17c24c-b2ef-407b-9ce3-1fd1cd7e3cf1",
   "metadata": {},
   "outputs": [
    {
     "name": "stdout",
     "output_type": "stream",
     "text": [
      "1716182\n"
     ]
    }
   ],
   "source": [
    "k = 0\n",
    "\n",
    "for record in SeqIO.parse('frag.R1.fastq','fastq'):\n",
    "    k += 1\n",
    "    \n",
    "print(k)"
   ]
  },
  {
   "cell_type": "markdown",
   "id": "2e8c5cd6-b061-4529-860a-58ac78f602e3",
   "metadata": {},
   "source": [
    "## Для R1:"
   ]
  },
  {
   "cell_type": "markdown",
   "id": "eb2a773e-3b9d-4ffd-8a7a-a698866226fe",
   "metadata": {},
   "source": [
    "Для данных R1 расчитаем вероятность"
   ]
  },
  {
   "cell_type": "code",
   "execution_count": 99,
   "id": "5f5458f7-2055-49a3-b70a-f4df1331d9db",
   "metadata": {},
   "outputs": [
    {
     "data": {
      "text/plain": [
       "[<matplotlib.lines.Line2D at 0x7fb555cecf40>]"
      ]
     },
     "execution_count": 99,
     "metadata": {},
     "output_type": "execute_result"
    },
    {
     "data": {
      "image/png": "[encoded data removed]",
      "text/plain": [
       "<Figure size 432x288 with 1 Axes>"
      ]
     },
     "metadata": {
      "needs_background": "light"
     },
     "output_type": "display_data"
    }
   ],
   "source": [
    "x3 = [0]*150\n",
    "p1 = [0]*150\n",
    "plt.close()\n",
    "\n",
    "for record in SeqIO.parse('frag.R1.fastq','fastq'):\n",
    "    for i in range(150):\n",
    "        x3[i] += record.letter_annotations[\"phred_quality\"][i]\n",
    "        \n",
    "for i in range(len(x3)):\n",
    "    \n",
    "    x3[i] = x3[i]/k #я делю на число ридов, дабы получить среднее качество для каждой позиции\n",
    "\n",
    "    #затем я выразила вероятность через качество (p через q) и получила следующую формулу:\n",
    "    p1[i] = (10**(-x3[i]/10))/(1+10**(-x3[i]/10))\n",
    "\n",
    "p1 = pd.DataFrame(p1)\n",
    "\n",
    "plt.plot(p1, color='orange')"
   ]
  },
  {
   "cell_type": "markdown",
   "id": "cc4f19f5-75ab-4494-bc50-68b34ad257dd",
   "metadata": {},
   "source": [
    "## Для  R2"
   ]
  },
  {
   "cell_type": "markdown",
   "id": "576eb4ee-94df-48bd-b3fe-385ca4995238",
   "metadata": {},
   "source": [
    "Для данных R2 было расчитано качество, чтобы сравнить его с результатом работы FASTQC"
   ]
  },
  {
   "cell_type": "code",
   "execution_count": 100,
   "id": "d61f31aa-6f26-4832-b2dd-dd90bfea1645",
   "metadata": {},
   "outputs": [
    {
     "data": {
      "text/plain": [
       "[<matplotlib.lines.Line2D at 0x7fb555c50820>]"
      ]
     },
     "execution_count": 100,
     "metadata": {},
     "output_type": "execute_result"
    },
    {
     "data": {
      "image/png": "[encoded data removed]",
      "text/plain": [
       "<Figure size 432x288 with 1 Axes>"
      ]
     },
     "metadata": {
      "needs_background": "light"
     },
     "output_type": "display_data"
    }
   ],
   "source": [
    "x4 = [0]*150\n",
    "plt.close()\n",
    "\n",
    "for record in SeqIO.parse('frag.R1.fastq','fastq'):\n",
    "    for i in range(150):\n",
    "        x4[i] += record.letter_annotations[\"phred_quality\"][i]\n",
    "        \n",
    "x4 = pd.DataFrame(x4)\n",
    "x4 = x4/k #я делю на число ридов, дабы получить среднее качество для каждой позиции\n",
    "\n",
    "#тут я также выразила p через q\n",
    "\n",
    "plt.plot(x4, color = 'orange')"
   ]
  },
  {
   "cell_type": "markdown",
   "id": "00052414-9ad6-4712-b055-3da31cb0965a",
   "metadata": {},
   "source": [
    "# Задание 3"
   ]
  },
  {
   "cell_type": "markdown",
   "id": "f5c4ec5d-5908-4b80-9c3a-558dcb593ff4",
   "metadata": {},
   "source": [
    "## R1"
   ]
  },
  {
   "cell_type": "markdown",
   "id": "7a3fde95-1281-4e9d-816c-7edc60702879",
   "metadata": {},
   "source": [
    "![alt text](R11.png \"Title\")"
   ]
  },
  {
   "cell_type": "markdown",
   "id": "0d609970-721d-4a06-9f08-941ba48d419e",
   "metadata": {},
   "source": [
    "![alt text](R12.png \"Title\")"
   ]
  },
  {
   "cell_type": "markdown",
   "id": "7f879ca4-e2b5-407d-9074-70c49a1a7191",
   "metadata": {},
   "source": [
    "## R2"
   ]
  },
  {
   "cell_type": "markdown",
   "id": "3840a095-6631-4984-ba9c-6d1be2f4a8a8",
   "metadata": {},
   "source": [
    "![alt text](R22.png \"Title\")"
   ]
  },
  {
   "cell_type": "markdown",
   "id": "3647fe28-d06f-4dcc-a24d-6d6b7e212c4c",
   "metadata": {},
   "source": [
    "![alt text](R21.png \"Title\")"
   ]
  },
  {
   "cell_type": "markdown",
   "id": "88b14c0f-5b8d-4f81-8c2a-131f22445509",
   "metadata": {},
   "source": [
    "Видно, что предсказанные в языке python и полученные в результате действия FASTQC графические предсатвления похожи. \n",
    "\n",
    "Среднее количество GC-повторов также схоже 72% (FASTQC)\n",
    "\n",
    "При построении графика распределения вероятности график не сходен с представленным обеспечением FASTQC, однако видно, что вероятность ошибки стремительно растет, что соответствует действительности (illumina начинает допускать больше ошибок в течение секвенирования)\n"
   ]
  }
 ],
 "metadata": {
  "kernelspec": {
   "display_name": "Python 3",
   "language": "python",
   "name": "python3"
  },
  "language_info": {
   "codemirror_mode": {
    "name": "ipython",
    "version": 3
   },
   "file_extension": ".py",
   "mimetype": "text/x-python",
   "name": "python",
   "nbconvert_exporter": "python",
   "pygments_lexer": "ipython3",
   "version": "3.8.5"
  }
 },
 "nbformat": 4,
 "nbformat_minor": 5
}
